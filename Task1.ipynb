{
 "cells": [
  {
   "cell_type": "code",
   "execution_count": 482,
   "id": "b711cfd0",
   "metadata": {},
   "outputs": [],
   "source": [
    "#imports\n",
    "import gensim.downloader as gm \n",
    "import pandas as pd\n",
    "import numpy as np\n",
    "import matplotlib.pyplot as plt"
   ]
  },
  {
   "cell_type": "code",
   "execution_count": 483,
   "id": "5b4d59be",
   "metadata": {},
   "outputs": [],
   "source": [
    "# Load the synonyms \n",
    "synonyms = pd.read_csv('synonyms.csv', sep=\",\",header=0)\n",
    "\n",
    "# Load the word2vec-google-news-300 model\n",
    "word2vec = gm.load('word2vec-google-news-300')\n"
   ]
  },
  {
   "cell_type": "markdown",
   "id": "b7f1d55a",
   "metadata": {},
   "source": [
    "<h1>Task 1</h1>"
   ]
  },
  {
   "cell_type": "code",
   "execution_count": 484,
   "id": "126752fb",
   "metadata": {},
   "outputs": [],
   "source": [
    "def get_results(model):\n",
    "    results = {\"question\": [], \"answer\": [], \"prediction\": [], \"label\": []}\n",
    "\n",
    "    for row in synonyms.iterrows():\n",
    "        predictions = []\n",
    "        label = \"\"\n",
    "        question = row[1][\"question\"]\n",
    "        answer = row[1][\"answer\"] \n",
    "        options = [row[1][\"0\"], row[1][\"1\"], row[1][\"2\"], row[1][\"3\"]]\n",
    "\n",
    "        if question in model:\n",
    "            if(options[0] in model):\n",
    "                predictions.append([options[0], model.similarity(options[0], question)]) \n",
    "            if(options[1] in model):\n",
    "                predictions.append([options[1], model.similarity(options[1], question)]) \n",
    "            if(options[2] in model):\n",
    "                predictions.append([options[2], model.similarity(options[2], question)]) \n",
    "            if(options[3] in model):\n",
    "                predictions.append([options[3], model.similarity(options[3], question)]) \n",
    "            \n",
    "            if len(predictions) != 4:\n",
    "                label = 'guess'\n",
    "                prediction = [row[1][str(np.random.randint(0,4))]]\n",
    "            else: \n",
    "                prediction = max(predictions, key=lambda x: x[1])\n",
    "                if prediction[0] == answer:\n",
    "                    label='correct'\n",
    "                else:\n",
    "                    label='wrong'\n",
    "        else:\n",
    "            label = 'guess'\n",
    "            prediction = [row[1][str(np.random.randint(0,4))]]\n",
    "\n",
    "        results[\"question\"].append(question)\n",
    "        results[\"answer\"].append(answer)\n",
    "        results[\"prediction\"].append(prediction[0])\n",
    "        results[\"label\"].append(label)\n",
    "        \n",
    "    return results "
   ]
  },
  {
   "cell_type": "code",
   "execution_count": 485,
   "id": "aafdb15e",
   "metadata": {},
   "outputs": [],
   "source": [
    "results1 = get_results(word2vec)"
   ]
  },
  {
   "cell_type": "code",
   "execution_count": 486,
   "id": "0a5fab26",
   "metadata": {},
   "outputs": [],
   "source": [
    "def details(model_name, results):\n",
    "    with open(F\"{model_name}-details.csv\",'w') as f:        \n",
    "        index = 0\n",
    "        for num in results[\"question\"]:\n",
    "            question = results[\"question\"][index]\n",
    "            answer = results[\"answer\"][index]\n",
    "            guess = results[\"prediction\"][index]\n",
    "            label = results[\"label\"][index]\n",
    "\n",
    "            f.write(f\"{question}, \")\n",
    "            f.write(f\"{answer}, \")\n",
    "            f.write(f\"{guess}, \")\n",
    "            f.write(f\"{label}\\n\")\n",
    "            index = index + 1"
   ]
  },
  {
   "cell_type": "code",
   "execution_count": 487,
   "id": "02c5918e",
   "metadata": {},
   "outputs": [],
   "source": [
    "details(\"word2vec-google-news-300\", results1)"
   ]
  },
  {
   "cell_type": "code",
   "execution_count": 488,
   "id": "9ac27a7e",
   "metadata": {},
   "outputs": [],
   "source": [
    "def analysis(model_name, results, w_or_a):\n",
    "    vocab_size = 10000 * int(model_name.split(\"-\")[-1])\n",
    "    C = results[\"label\"].count('correct')\n",
    "    V =  len(results[\"question\"]) - results[\"label\"].count('guess')\n",
    "    accuracy = C/V\n",
    "\n",
    "    print(F\"{model_name}\\n  Vocab Size: {vocab_size}\\n  Correct: {C}\\n  No Guess: {V}\\n  Accuracy: {accuracy}\\n\")\n",
    "    \n",
    "    with open(\"analysis.csv\", w_or_a) as f:\n",
    "        f.write(f\"{model_name},{vocab_size},{C},{V},{accuracy}\\n\") \n",
    "        \n",
    "    return accuracy "
   ]
  },
  {
   "cell_type": "code",
   "execution_count": 489,
   "id": "067138a0",
   "metadata": {
    "scrolled": true
   },
   "outputs": [
    {
     "name": "stdout",
     "output_type": "stream",
     "text": [
      "word2vec-google-news-300\n",
      "  Vocab Size: 3000000\n",
      "  Correct: 70\n",
      "  No Guess: 79\n",
      "  Accuracy: 0.8860759493670886\n",
      "\n"
     ]
    }
   ],
   "source": [
    "accuracy1 = analysis('word2vec-google-news-300', results1, \"w\")"
   ]
  },
  {
   "cell_type": "markdown",
   "id": "48fb1522",
   "metadata": {},
   "source": [
    "<h1>Task 2</h1>\n"
   ]
  },
  {
   "cell_type": "code",
   "execution_count": 491,
   "id": "72e97ba3",
   "metadata": {},
   "outputs": [],
   "source": [
    "def do_all(models):\n",
    "    results = {}\n",
    "    for model in models: \n",
    "        word2vec = gm.load(model)\n",
    "        result = get_results(word2vec)\n",
    "        results.update({model: result})\n",
    "        details(model, result)\n",
    "        analysis(model, result, \"a\")\n",
    "    return results "
   ]
  },
  {
   "cell_type": "code",
   "execution_count": 492,
   "id": "c28af84b",
   "metadata": {
    "scrolled": false
   },
   "outputs": [
    {
     "name": "stdout",
     "output_type": "stream",
     "text": [
      "glove-wiki-gigaword-300\n",
      "  Vocab Size: 3000000\n",
      "  Correct: 70\n",
      "  No Guess: 78\n",
      "  Accuracy: 0.8974358974358975\n",
      "\n",
      "fasttext-wiki-news-subwords-300\n",
      "  Vocab Size: 3000000\n",
      "  Correct: 73\n",
      "  No Guess: 79\n",
      "  Accuracy: 0.9240506329113924\n",
      "\n",
      "glove-twitter-200\n",
      "  Vocab Size: 2000000\n",
      "  Correct: 42\n",
      "  No Guess: 69\n",
      "  Accuracy: 0.6086956521739131\n",
      "\n",
      "glove-twitter-100\n",
      "  Vocab Size: 1000000\n",
      "  Correct: 36\n",
      "  No Guess: 69\n",
      "  Accuracy: 0.5217391304347826\n",
      "\n"
     ]
    }
   ],
   "source": [
    "model_names = ['glove-wiki-gigaword-300', 'fasttext-wiki-news-subwords-300', 'glove-twitter-200', 'glove-twitter-100']\n",
    "\n",
    "results = do_all(model_names)"
   ]
  },
  {
   "cell_type": "code",
   "execution_count": 498,
   "id": "0fae4be8",
   "metadata": {},
   "outputs": [],
   "source": [
    "rand = np.random.uniform()\n",
    "\n",
    "size = {'word2vec-google-news-300':3000000}\n",
    "correct = {'word2vec-google-news-300':results1[\"label\"].count('correct')}\n",
    "no_guess = {'word2vec-google-news-300':len(results1[\"question\"]) - results1[\"label\"].count('guess')}\n",
    "accuracy = {'random-baseline': rand, 'human-gold-standard':0.8557, 'word2vec-google-news-300':accuracy1}\n",
    "\n",
    "for model in models:\n",
    "    result = results[model]\n",
    "    vocab_size = 10000 * int(model.split(\"-\")[-1])\n",
    "    C = result[\"label\"].count('correct')\n",
    "    V =  len(result[\"question\"]) - result[\"label\"].count('guess')\n",
    "    acc = C/V\n",
    "    size.update({model:vocab_size})\n",
    "    correct.update({model:C})\n",
    "    no_guess.update({model:V})\n",
    "    accuracy.update({model:acc})"
   ]
  },
  {
   "cell_type": "code",
   "execution_count": 499,
   "id": "a624c6b9",
   "metadata": {},
   "outputs": [
    {
     "data": {
      "image/png": "[encoded data removed]",
      "text/plain": [
       "<Figure size 1080x360 with 1 Axes>"
      ]
     },
     "metadata": {
      "needs_background": "light"
     },
     "output_type": "display_data"
    }
   ],
   "source": [
    "keys = size.keys()\n",
    "values = size.values()\n",
    "plt.figure(figsize=(15,5))\n",
    "plt.bar(keys, values)\n",
    "plt.title('Size of Models')\n",
    "plt.ylabel('Size')\n",
    "plt.savefig('model_size.pdf')\n",
    "plt.show()"
   ]
  },
  {
   "cell_type": "code",
   "execution_count": 500,
   "id": "ba0c45b3",
   "metadata": {},
   "outputs": [
    {
     "data": {
      "image/png": "[encoded data removed]",
      "text/plain": [
       "<Figure size 1080x360 with 1 Axes>"
      ]
     },
     "metadata": {
      "needs_background": "light"
     },
     "output_type": "display_data"
    }
   ],
   "source": [
    "keys = correct.keys()\n",
    "values = correct.values()\n",
    "plt.figure(figsize=(15,5))\n",
    "plt.bar(keys, values)\n",
    "plt.title('Correct Answers')\n",
    "plt.ylabel('Correct')\n",
    "plt.savefig('correct_answers.pdf')\n",
    "plt.show()"
   ]
  },
  {
   "cell_type": "code",
   "execution_count": 501,
   "id": "2d6a3efd",
   "metadata": {
    "scrolled": true
   },
   "outputs": [
    {
     "data": {
      "image/png": "[encoded data removed]",
      "text/plain": [
       "<Figure size 1080x360 with 1 Axes>"
      ]
     },
     "metadata": {
      "needs_background": "light"
     },
     "output_type": "display_data"
    }
   ],
   "source": [
    "keys = no_guess.keys()\n",
    "values = no_guess.values()\n",
    "plt.figure(figsize=(15,5))\n",
    "plt.bar(keys, values)\n",
    "plt.title('Correct Answers Without Guessing')\n",
    "plt.ylabel('Without Guessing')\n",
    "plt.savefig('correct_answers_without_guessing.pdf')\n",
    "plt.show()"
   ]
  },
  {
   "cell_type": "code",
   "execution_count": 502,
   "id": "76a9f229",
   "metadata": {
    "scrolled": true
   },
   "outputs": [
    {
     "data": {
      "image/png": "[encoded data removed]",
      "text/plain": [
       "<Figure size 1440x360 with 1 Axes>"
      ]
     },
     "metadata": {
      "needs_background": "light"
     },
     "output_type": "display_data"
    }
   ],
   "source": [
    "keys = accuracy.keys()\n",
    "values = accuracy.values()\n",
    "plt.figure(figsize=(20,5))\n",
    "plt.bar(keys, values)\n",
    "plt.title('Accuracy of Models')\n",
    "plt.ylabel('Accuracy')\n",
    "plt.savefig('accuracy.pdf')\n",
    "plt.show()"
   ]
  },
  {
   "cell_type": "code",
   "execution_count": null,
   "id": "48a28eda",
   "metadata": {},
   "outputs": [],
   "source": []
  }
 ],
 "metadata": {
  "kernelspec": {
   "display_name": "Python 3 (ipykernel)",
   "language": "python",
   "name": "python3"
  },
  "language_info": {
   "codemirror_mode": {
    "name": "ipython",
    "version": 3
   },
   "file_extension": ".py",
   "mimetype": "text/x-python",
   "name": "python",
   "nbconvert_exporter": "python",
   "pygments_lexer": "ipython3",
   "version": "3.9.5"
  }
 },
 "nbformat": 4,
 "nbformat_minor": 5
}
